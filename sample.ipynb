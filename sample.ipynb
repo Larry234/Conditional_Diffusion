{
 "cells": [
  {
   "cell_type": "code",
   "execution_count": 45,
   "id": "c8118380",
   "metadata": {},
   "outputs": [],
   "source": [
    "import argparse\n",
    "import torch\n",
    "from utils import get_model, LoadEncoder\n",
    "from models.engine import DDIMSampler, DDIMSamplerEncoder\n",
    "from torchvision.utils import save_image, make_grid\n",
    "from collections import OrderedDict\n",
    "from PIL import Image\n",
    "import numpy as np"
   ]
  },
  {
   "cell_type": "code",
   "execution_count": 46,
   "id": "c0ac46ac",
   "metadata": {},
   "outputs": [],
   "source": [
    "class Args(argparse.Namespace):\n",
    "    arch = \"unetattention\"\n",
    "    img_size=64\n",
    "    num_timestep = 1000\n",
    "    beta = (0.0001, 0.02)\n",
    "    num_condition = [4, 2]\n",
    "    emb_size = 128\n",
    "    channel_mult = [1, 2, 2, 2]\n",
    "    num_res_blocks = 2\n",
    "    use_spatial_transformer = True\n",
    "    num_heads = 4\n",
    "    num_sample_missing = 100\n",
    "    num_sample = 10\n",
    "    w = 1.8\n",
    "    projection_dim=512\n",
    "    only_table = False\n",
    "    concat = False\n",
    "    only_encoder = False\n",
    "    num_head_channels = -1\n",
    "    encoder_path = None\n",
    "\n",
    "device = torch.device(\"cuda\" if torch.cuda.is_available() else \"cpu\")\n",
    "args = Args()"
   ]
  },
  {
   "cell_type": "code",
   "execution_count": 47,
   "id": "482ae70e",
   "metadata": {},
   "outputs": [
    {
     "name": "stdout",
     "output_type": "stream",
     "text": [
      "All keys successfully match\n"
     ]
    }
   ],
   "source": [
    "model = get_model(args)\n",
    "\n",
    "ckpt = torch.load(\"checkpoints/CelebA/GrayFemaleAdaGN/model_100.pth\")[\"model\"]\n",
    "new_dict = OrderedDict()\n",
    "    \n",
    "for k, v in ckpt.items():\n",
    "    if k.startswith(\"module\"):\n",
    "        new_dict[k[7:]] = v\n",
    "    else:\n",
    "        new_dict[k] = v\n",
    "try:\n",
    "    model.load_state_dict(new_dict)\n",
    "    print(\"All keys successfully match\")\n",
    "except:\n",
    "    print(\"some keys are missing!\")\n",
    "\n",
    "for p in model.parameters():\n",
    "    p.requires_grad = False\n",
    "\n",
    "model.eval()\n",
    "model.to(device)\n",
    "\n",
    "sampler = DDIMSampler(\n",
    "    model=model,\n",
    "    beta =args.beta,\n",
    "    T=args.num_timestep,\n",
    "    w=args.w,\n",
    ").to(device)\n",
    "\n",
    "if args.encoder_path != None:\n",
    "    encoder = LoadEncoder(args).to(device)\n",
    "    sampler = DDIMSamplerEncoder(\n",
    "            model = model,\n",
    "            encoder = encoder,\n",
    "            beta = args.beta,\n",
    "            T = args.num_timestep,\n",
    "            w = args.w,\n",
    "            only_encoder = args.only_encoder\n",
    "    ).to(device)"
   ]
  },
  {
   "cell_type": "code",
   "execution_count": 48,
   "id": "6982ef52",
   "metadata": {},
   "outputs": [
    {
     "name": "stderr",
     "output_type": "stream",
     "text": [
      "100%|\u001b[38;2;101;101;181m██████████\u001b[0m| 100/100 [01:44<00:00,  1.05s/it, step=1, sample=1]\n",
      "100%|\u001b[38;2;101;101;181m██████████\u001b[0m| 100/100 [00:12<00:00,  8.16it/s, step=1, sample=1]\n",
      "100%|\u001b[38;2;101;101;181m██████████\u001b[0m| 100/100 [00:12<00:00,  8.26it/s, step=1, sample=1]\n",
      "100%|\u001b[38;2;101;101;181m██████████\u001b[0m| 100/100 [00:12<00:00,  8.24it/s, step=1, sample=1]\n",
      "100%|\u001b[38;2;101;101;181m██████████\u001b[0m| 100/100 [00:12<00:00,  8.21it/s, step=1, sample=1]\n",
      "100%|\u001b[38;2;101;101;181m██████████\u001b[0m| 100/100 [00:12<00:00,  8.24it/s, step=1, sample=1]\n",
      "100%|\u001b[38;2;101;101;181m██████████\u001b[0m| 100/100 [00:12<00:00,  8.27it/s, step=1, sample=1]\n",
      "100%|\u001b[38;2;101;101;181m██████████\u001b[0m| 100/100 [00:12<00:00,  8.33it/s, step=1, sample=1]\n"
     ]
    }
   ],
   "source": [
    "from config import Zappo50K, toy_dataset, CelebA\n",
    "\n",
    "CFG = CelebA()\n",
    "# CFG = Zappo50K()\n",
    "# missing = \"Heel Slipper\"\n",
    "# targets = [\"Flat Boot\", \"Flat Shoe\", \"Flat Slipper\", \"Flat Sandal\", \"Heel Boot\", \"Heel Shoe\", \"Heel Sandal\"]\n",
    "missing = \"Gray_Hair Female\"\n",
    "targets = [\"Brown_Hair Male\", \"Black_Hair Male\", \"Gray_Hair Male\", \"Blond_Hair Male\", \"Brown_Hair Female\", \"Black_Hair Female\", \"Blond_Hair Female\"]\n",
    "\n",
    "atr, obj = CFG.ATR2IDX[missing.split(\" \")[0]], CFG.OBJ2IDX[missing.split(\" \")[-1]]\n",
    "atr = torch.tensor(atr, dtype=torch.long, device=device).repeat(args.num_sample_missing)\n",
    "obj = torch.tensor(obj, dtype=torch.long, device=device).repeat(args.num_sample_missing)\n",
    "x_i = torch.randn(args.num_sample_missing, 3, 64, 64).to(device)\n",
    "x0 = sampler(x_i, atr, obj, steps=100)\n",
    "x0 = x0 * 0.5 + 0.5\n",
    "save_image(x0, \"SampledImg/GrayFemaleCA.png\", nrow=10, noramlized=True)\n",
    "\n",
    "images = []\n",
    "for target in targets:\n",
    "    atr, obj = CFG.ATR2IDX[target.split(\" \")[0]], CFG.OBJ2IDX[target.split(\" \")[-1]]\n",
    "    atr = torch.tensor(atr, dtype=torch.long, device=device).repeat(args.num_sample)\n",
    "    obj = torch.tensor(obj, dtype=torch.long, device=device).repeat(args.num_sample)\n",
    "\n",
    "    x_i = torch.randn(args.num_sample, 3, 64, 64).to(device)\n",
    "    x0 = sampler(x_i, atr, obj, steps=100)\n",
    "    x0 = x0 * 0.5 + 0.5\n",
    "    images.append(x0)\n",
    "images = torch.concatenate(images, dim=0)\n",
    "save_image(images, \"SampledImg/SeenCA.png\", nrow=args.num_sample, normalized=True)"
   ]
  },
  {
   "cell_type": "code",
   "execution_count": 12,
   "id": "3cad711f",
   "metadata": {},
   "outputs": [],
   "source": [
    "def _image_grid(imgs, rows, cols):\n",
    "        \"\"\"\n",
    "        input -\n",
    "        1. imgs - np array dims num_images x **(image_dims)\n",
    "        2. rows, cols - number of rows and columns in the image grid\n",
    "        output - \n",
    "        1. saved image grid on the disk at the end when all the images are pasted after multiple iterations\n",
    "        \"\"\"\n",
    "        n,c,w,h = imgs.shape\n",
    "\n",
    "        grid = Image.new('RGB', size=(cols*w, rows*h))\n",
    "        \n",
    "        if isinstance(imgs, torch.Tensor):\n",
    "            imgs = imgs.cpu().numpy()\n",
    "\n",
    "        grid_w, grid_h = grid.size\n",
    "        for idx in range(n):\n",
    "            img = imgs[idx,:].squeeze()\n",
    "            img = Image.fromarray(img)\n",
    "            if img.mode != 'RGB':\n",
    "                img = img.convert('RGB')\n",
    "            grid.paste(img, box=(idx*w, 0))\n",
    "        return grid"
   ]
  },
  {
   "cell_type": "code",
   "execution_count": 24,
   "id": "7df680e4",
   "metadata": {},
   "outputs": [
    {
     "data": {
      "text/plain": [
       "3"
      ]
     },
     "execution_count": 24,
     "metadata": {},
     "output_type": "execute_result"
    }
   ],
   "source": [
    "imgs = images.cpu().numpy()\n",
    "img = imgs[0, :].squeeze()\n",
    "# img = Image.fromarray((img * 255).astype(np.uint8))"
   ]
  },
  {
   "cell_type": "code",
   "execution_count": null,
   "id": "4679ecfd",
   "metadata": {},
   "outputs": [],
   "source": []
  }
 ],
 "metadata": {
  "kernelspec": {
   "display_name": "Conditional_Diffusion",
   "language": "python",
   "name": "conditional_diffusion"
  },
  "language_info": {
   "codemirror_mode": {
    "name": "ipython",
    "version": 3
   },
   "file_extension": ".py",
   "mimetype": "text/x-python",
   "name": "python",
   "nbconvert_exporter": "python",
   "pygments_lexer": "ipython3",
   "version": "3.8.10"
  }
 },
 "nbformat": 4,
 "nbformat_minor": 5
}
