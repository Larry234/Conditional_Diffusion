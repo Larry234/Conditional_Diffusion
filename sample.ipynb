{
 "cells": [
  {
   "cell_type": "code",
   "execution_count": 19,
   "id": "954ff212",
   "metadata": {},
   "outputs": [],
   "source": [
    "import argparse\n",
    "import torch\n",
    "from utils import get_model, LoadEncoder\n",
    "from models.engine import DDIMSampler, DDIMSamplerEncoder\n",
    "from torchvision.utils import save_image\n",
    "from collections import OrderedDict"
   ]
  },
  {
   "cell_type": "code",
   "execution_count": 21,
   "id": "1ce7dd09",
   "metadata": {},
   "outputs": [],
   "source": [
    "class Args(argparse.Namespace):\n",
    "    arch = \"unetattention\"\n",
    "    img_size=64\n",
    "    num_timestep = 1000\n",
    "    beta = (0.0001, 0.02)\n",
    "    num_condition = [2, 4]\n",
    "    emb_size = 128\n",
    "    channel_mult = [1, 2, 2, 2]\n",
    "    num_res_blocks = 2\n",
    "    use_spatial_transformer = True\n",
    "    num_heads = 4\n",
    "    num_sample = 100\n",
    "    w = 1.8\n",
    "    projection_dim=512\n",
    "    only_table = False\n",
    "    concat = False\n",
    "    only_encoder = False\n",
    "    num_head_channels = -1\n",
    "    encoder_path = None\n",
    "\n",
    "device = torch.device(\"cuda\" if torch.cuda.is_available() else \"cpu\")\n",
    "args = Args()"
   ]
  },
  {
   "cell_type": "code",
   "execution_count": 23,
   "id": "98a2f231",
   "metadata": {},
   "outputs": [
    {
     "name": "stdout",
     "output_type": "stream",
     "text": [
      "All keys successfully match\n"
     ]
    }
   ],
   "source": [
    "model = get_model(args)\n",
    "\n",
    "ckpt = torch.load(\"checkpoints/Zappo50K/HeelSliAdaCA/model_100.pth\")[\"model\"]\n",
    "new_dict = OrderedDict()\n",
    "    \n",
    "for k, v in ckpt.items():\n",
    "    if k.startswith(\"module\"):\n",
    "        new_dict[k[7:]] = v\n",
    "    else:\n",
    "        new_dict[k] = v\n",
    "try:\n",
    "    model.load_state_dict(new_dict)\n",
    "    print(\"All keys successfully match\")\n",
    "except:\n",
    "    print(\"some keys are missing!\")\n",
    "\n",
    "for p in model.parameters():\n",
    "    p.requires_grad = False\n",
    "\n",
    "model.eval()\n",
    "model.to(device)\n",
    "\n",
    "sampler = DDIMSampler(\n",
    "    model=model,\n",
    "    beta =args.beta,\n",
    "    T=args.num_timestep,\n",
    "    w=args.w,\n",
    ").to(device)\n",
    "\n",
    "if args.encoder_path != None:\n",
    "    encoder = LoadEncoder(args).to(device)\n",
    "    sampler = DDIMSamplerEncoder(\n",
    "            model = model,\n",
    "            encoder = encoder,\n",
    "            beta = args.beta,\n",
    "            T = args.num_timestep,\n",
    "            w = args.w,\n",
    "            only_encoder = args.only_encoder\n",
    "    ).to(device)"
   ]
  },
  {
   "cell_type": "code",
   "execution_count": 25,
   "id": "eeb73df9",
   "metadata": {},
   "outputs": [
    {
     "name": "stderr",
     "output_type": "stream",
     "text": [
      "100%|\u001b[38;2;101;101;181m██████████\u001b[0m| 100/100 [01:44<00:00,  1.04s/it, step=1, sample=1]\n"
     ]
    }
   ],
   "source": [
    "from config import Zappo50K, toy_dataset\n",
    "CFG = Zappo50K()\n",
    "target = \"Heel Slipper\"\n",
    "atr, obj = CFG.ATR2IDX[target.split(\" \")[0]], CFG.OBJ2IDX[target.split(\" \")[-1]]\n",
    "atr = torch.tensor(atr, dtype=torch.long, device=device).repeat(args.num_sample)\n",
    "obj = torch.tensor(obj, dtype=torch.long, device=device).repeat(args.num_sample)\n",
    "\n",
    "x_i = torch.randn(args.num_sample, 3, 64, 64).to(device)\n",
    "x0 = sampler(x_i, atr, obj, steps=100)\n",
    "save_image(x0, \"SampledImg/HeelSliCA.png\")"
   ]
  },
  {
   "cell_type": "code",
   "execution_count": 16,
   "id": "3489e9ca",
   "metadata": {},
   "outputs": [
    {
     "data": {
      "text/plain": [
       "torch.Size([100])"
      ]
     },
     "execution_count": 16,
     "metadata": {},
     "output_type": "execute_result"
    }
   ],
   "source": []
  },
  {
   "cell_type": "code",
   "execution_count": null,
   "id": "c0c3ee4c",
   "metadata": {},
   "outputs": [],
   "source": []
  }
 ],
 "metadata": {
  "kernelspec": {
   "display_name": "Conditional_Diffusion",
   "language": "python",
   "name": "conditional_diffusion"
  },
  "language_info": {
   "codemirror_mode": {
    "name": "ipython",
    "version": 3
   },
   "file_extension": ".py",
   "mimetype": "text/x-python",
   "name": "python",
   "nbconvert_exporter": "python",
   "pygments_lexer": "ipython3",
   "version": "3.8.10"
  }
 },
 "nbformat": 4,
 "nbformat_minor": 5
}
