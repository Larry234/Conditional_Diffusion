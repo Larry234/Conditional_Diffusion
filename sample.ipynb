{
 "cells": [
  {
   "cell_type": "code",
   "execution_count": 6,
   "id": "90df3899",
   "metadata": {},
   "outputs": [],
   "source": [
    "import argparse\n",
    "import torch\n",
    "from utils import get_model, LoadEncoder\n",
    "from models.engine import DDIMSampler, DDIMSamplerEncoder\n",
    "from torchvision.utils import save_image, make_grid\n",
    "from collections import OrderedDict\n",
    "from PIL import Image\n",
    "import numpy as np\n",
    "import torchvision.transforms as transforms\n",
    "import os"
   ]
  },
  {
   "cell_type": "code",
   "execution_count": 8,
   "id": "28659a3a",
   "metadata": {},
   "outputs": [],
   "source": [
    "class Args(argparse.Namespace):\n",
    "    arch = \"unetadagn\"\n",
    "    img_size=64\n",
    "    num_timestep = 1000\n",
    "    beta = (0.0001, 0.02)\n",
    "    num_condition = [2, 4]\n",
    "    emb_size = 128\n",
    "    channel_mult = [1, 2, 2, 2]\n",
    "    num_res_blocks = 2\n",
    "    use_spatial_transformer = True\n",
    "    num_heads = 4\n",
    "    num_sample_missing = 1000\n",
    "    num_sample = 10\n",
    "    w = 1.8\n",
    "    projection_dim=512\n",
    "    only_table = False\n",
    "    concat = False\n",
    "    only_encoder = False\n",
    "    num_head_channels = -1\n",
    "    encoder_path = None\n",
    "    compose = False\n",
    "    dataset = \"Zappo50K\"\n",
    "    exp = \"HSliAdaGN\"\n",
    "\n",
    "device = torch.device(\"cuda\" if torch.cuda.is_available() else \"cpu\")\n",
    "args = Args()"
   ]
  },
  {
   "cell_type": "code",
   "execution_count": 10,
   "id": "56c5ae4b",
   "metadata": {},
   "outputs": [
    {
     "name": "stdout",
     "output_type": "stream",
     "text": [
      "All keys successfully match\n"
     ]
    }
   ],
   "source": [
    "model = get_model(args)\n",
    "\n",
    "ckpt = torch.load(os.path.join(\"checkpoints\", args.dataset, args.exp, \"model_100.pth\"))[\"model\"]\n",
    "new_dict = OrderedDict()\n",
    "    \n",
    "for k, v in ckpt.items():\n",
    "    if k.startswith(\"module\"):\n",
    "        new_dict[k[7:]] = v\n",
    "    else:\n",
    "        new_dict[k] = v\n",
    "try:\n",
    "    model.load_state_dict(new_dict)\n",
    "    print(\"All keys successfully match\")\n",
    "except:\n",
    "    print(\"some keys are missing!\")\n",
    "\n",
    "for p in model.parameters():\n",
    "    p.requires_grad = False\n",
    "\n",
    "model.eval()\n",
    "model.to(device)\n",
    "\n",
    "sampler = DDIMSampler(\n",
    "    model=model,\n",
    "    beta =args.beta,\n",
    "    T=args.num_timestep,\n",
    "    w=args.w,\n",
    ").to(device)\n",
    "\n",
    "if args.encoder_path != None:\n",
    "    encoder = LoadEncoder(args).to(device)\n",
    "    sampler = DDIMSamplerEncoder(\n",
    "            model = model,\n",
    "            encoder = encoder,\n",
    "            beta = args.beta,\n",
    "            T = args.num_timestep,\n",
    "            w = args.w,\n",
    "            only_encoder = args.only_encoder\n",
    "    ).to(device)"
   ]
  },
  {
   "cell_type": "code",
   "execution_count": 15,
   "id": "35cbb53f",
   "metadata": {},
   "outputs": [
    {
     "name": "stderr",
     "output_type": "stream",
     "text": [
      "  0%|\u001b[38;2;101;101;181m          \u001b[0m| 0/100 [00:05<?, ?it/s]\n"
     ]
    },
    {
     "ename": "OutOfMemoryError",
     "evalue": "CUDA out of memory. Tried to allocate 500.00 MiB (GPU 0; 31.75 GiB total capacity; 10.38 GiB already allocated; 423.69 MiB free; 11.52 GiB reserved in total by PyTorch) If reserved memory is >> allocated memory try setting max_split_size_mb to avoid fragmentation.  See documentation for Memory Management and PYTORCH_CUDA_ALLOC_CONF",
     "output_type": "error",
     "traceback": [
      "\u001b[0;31m---------------------------------------------------------------------------\u001b[0m",
      "\u001b[0;31mOutOfMemoryError\u001b[0m                          Traceback (most recent call last)",
      "Cell \u001b[0;32mIn[15], line 19\u001b[0m\n\u001b[1;32m     17\u001b[0m obj \u001b[38;5;241m=\u001b[39m torch\u001b[38;5;241m.\u001b[39mtensor(obj, dtype\u001b[38;5;241m=\u001b[39mtorch\u001b[38;5;241m.\u001b[39mlong, device\u001b[38;5;241m=\u001b[39mdevice)\u001b[38;5;241m.\u001b[39mrepeat(args\u001b[38;5;241m.\u001b[39mnum_sample_missing)\n\u001b[1;32m     18\u001b[0m x_i \u001b[38;5;241m=\u001b[39m torch\u001b[38;5;241m.\u001b[39mrandn(args\u001b[38;5;241m.\u001b[39mnum_sample_missing, \u001b[38;5;241m3\u001b[39m, \u001b[38;5;241m64\u001b[39m, \u001b[38;5;241m64\u001b[39m)\u001b[38;5;241m.\u001b[39mto(device)\n\u001b[0;32m---> 19\u001b[0m x0 \u001b[38;5;241m=\u001b[39m \u001b[43msampler\u001b[49m\u001b[43m(\u001b[49m\u001b[43mx_i\u001b[49m\u001b[43m,\u001b[49m\u001b[43m \u001b[49m\u001b[43matr\u001b[49m\u001b[43m,\u001b[49m\u001b[43m \u001b[49m\u001b[43mobj\u001b[49m\u001b[43m,\u001b[49m\u001b[43m \u001b[49m\u001b[43msteps\u001b[49m\u001b[38;5;241;43m=\u001b[39;49m\u001b[38;5;241;43m100\u001b[39;49m\u001b[43m)\u001b[49m\n\u001b[1;32m     20\u001b[0m x0 \u001b[38;5;241m=\u001b[39m x0 \u001b[38;5;241m*\u001b[39m \u001b[38;5;241m0.5\u001b[39m \u001b[38;5;241m+\u001b[39m \u001b[38;5;241m0.5\u001b[39m\n\u001b[1;32m     21\u001b[0m x0 \u001b[38;5;241m=\u001b[39m x0\u001b[38;5;241m.\u001b[39mcpu()\n",
      "File \u001b[0;32m~/nfs/work/larry.lai/Conditional_Diffusion/lib/python3.8/site-packages/torch/nn/modules/module.py:1501\u001b[0m, in \u001b[0;36mModule._call_impl\u001b[0;34m(self, *args, **kwargs)\u001b[0m\n\u001b[1;32m   1496\u001b[0m \u001b[38;5;66;03m# If we don't have any hooks, we want to skip the rest of the logic in\u001b[39;00m\n\u001b[1;32m   1497\u001b[0m \u001b[38;5;66;03m# this function, and just call forward.\u001b[39;00m\n\u001b[1;32m   1498\u001b[0m \u001b[38;5;28;01mif\u001b[39;00m \u001b[38;5;129;01mnot\u001b[39;00m (\u001b[38;5;28mself\u001b[39m\u001b[38;5;241m.\u001b[39m_backward_hooks \u001b[38;5;129;01mor\u001b[39;00m \u001b[38;5;28mself\u001b[39m\u001b[38;5;241m.\u001b[39m_backward_pre_hooks \u001b[38;5;129;01mor\u001b[39;00m \u001b[38;5;28mself\u001b[39m\u001b[38;5;241m.\u001b[39m_forward_hooks \u001b[38;5;129;01mor\u001b[39;00m \u001b[38;5;28mself\u001b[39m\u001b[38;5;241m.\u001b[39m_forward_pre_hooks\n\u001b[1;32m   1499\u001b[0m         \u001b[38;5;129;01mor\u001b[39;00m _global_backward_pre_hooks \u001b[38;5;129;01mor\u001b[39;00m _global_backward_hooks\n\u001b[1;32m   1500\u001b[0m         \u001b[38;5;129;01mor\u001b[39;00m _global_forward_hooks \u001b[38;5;129;01mor\u001b[39;00m _global_forward_pre_hooks):\n\u001b[0;32m-> 1501\u001b[0m     \u001b[38;5;28;01mreturn\u001b[39;00m \u001b[43mforward_call\u001b[49m\u001b[43m(\u001b[49m\u001b[38;5;241;43m*\u001b[39;49m\u001b[43margs\u001b[49m\u001b[43m,\u001b[49m\u001b[43m \u001b[49m\u001b[38;5;241;43m*\u001b[39;49m\u001b[38;5;241;43m*\u001b[39;49m\u001b[43mkwargs\u001b[49m\u001b[43m)\u001b[49m\n\u001b[1;32m   1502\u001b[0m \u001b[38;5;66;03m# Do not call functions when jit is used\u001b[39;00m\n\u001b[1;32m   1503\u001b[0m full_backward_hooks, non_full_backward_hooks \u001b[38;5;241m=\u001b[39m [], []\n",
      "File \u001b[0;32m~/nfs/work/larry.lai/Conditional_Diffusion/lib/python3.8/site-packages/torch/utils/_contextlib.py:115\u001b[0m, in \u001b[0;36mcontext_decorator.<locals>.decorate_context\u001b[0;34m(*args, **kwargs)\u001b[0m\n\u001b[1;32m    112\u001b[0m \u001b[38;5;129m@functools\u001b[39m\u001b[38;5;241m.\u001b[39mwraps(func)\n\u001b[1;32m    113\u001b[0m \u001b[38;5;28;01mdef\u001b[39;00m \u001b[38;5;21mdecorate_context\u001b[39m(\u001b[38;5;241m*\u001b[39margs, \u001b[38;5;241m*\u001b[39m\u001b[38;5;241m*\u001b[39mkwargs):\n\u001b[1;32m    114\u001b[0m     \u001b[38;5;28;01mwith\u001b[39;00m ctx_factory():\n\u001b[0;32m--> 115\u001b[0m         \u001b[38;5;28;01mreturn\u001b[39;00m \u001b[43mfunc\u001b[49m\u001b[43m(\u001b[49m\u001b[38;5;241;43m*\u001b[39;49m\u001b[43margs\u001b[49m\u001b[43m,\u001b[49m\u001b[43m \u001b[49m\u001b[38;5;241;43m*\u001b[39;49m\u001b[38;5;241;43m*\u001b[39;49m\u001b[43mkwargs\u001b[49m\u001b[43m)\u001b[49m\n",
      "File \u001b[0;32m~/nfs/work/larry.lai/Conditional_Diffusion/models/engine.py:380\u001b[0m, in \u001b[0;36mDDIMSampler.forward\u001b[0;34m(self, x_t, atr, obj, steps, method, eta, only_return_x_0, interval)\u001b[0m\n\u001b[1;32m    378\u001b[0m \u001b[38;5;28;01mwith\u001b[39;00m tqdm(\u001b[38;5;28mreversed\u001b[39m(\u001b[38;5;28mrange\u001b[39m(\u001b[38;5;241m0\u001b[39m, steps)), colour\u001b[38;5;241m=\u001b[39m\u001b[38;5;124m\"\u001b[39m\u001b[38;5;124m#6565b5\u001b[39m\u001b[38;5;124m\"\u001b[39m, total\u001b[38;5;241m=\u001b[39msteps) \u001b[38;5;28;01mas\u001b[39;00m sampling_steps:\n\u001b[1;32m    379\u001b[0m     \u001b[38;5;28;01mfor\u001b[39;00m i \u001b[38;5;129;01min\u001b[39;00m sampling_steps:\n\u001b[0;32m--> 380\u001b[0m         x_t \u001b[38;5;241m=\u001b[39m \u001b[38;5;28;43mself\u001b[39;49m\u001b[38;5;241;43m.\u001b[39;49m\u001b[43msample_one_step\u001b[49m\u001b[43m(\u001b[49m\u001b[43mx_t\u001b[49m\u001b[43m,\u001b[49m\u001b[43m \u001b[49m\u001b[43mtime_steps\u001b[49m\u001b[43m[\u001b[49m\u001b[43mi\u001b[49m\u001b[43m]\u001b[49m\u001b[43m,\u001b[49m\u001b[43m \u001b[49m\u001b[43matr\u001b[49m\u001b[43m,\u001b[49m\u001b[43m \u001b[49m\u001b[43mobj\u001b[49m\u001b[43m,\u001b[49m\u001b[43m \u001b[49m\u001b[43mtime_steps_prev\u001b[49m\u001b[43m[\u001b[49m\u001b[43mi\u001b[49m\u001b[43m]\u001b[49m\u001b[43m,\u001b[49m\u001b[43m \u001b[49m\u001b[43meta\u001b[49m\u001b[43m)\u001b[49m\n\u001b[1;32m    382\u001b[0m         \u001b[38;5;28;01mif\u001b[39;00m \u001b[38;5;129;01mnot\u001b[39;00m only_return_x_0 \u001b[38;5;129;01mand\u001b[39;00m ((steps \u001b[38;5;241m-\u001b[39m i) \u001b[38;5;241m%\u001b[39m interval \u001b[38;5;241m==\u001b[39m \u001b[38;5;241m0\u001b[39m \u001b[38;5;129;01mor\u001b[39;00m i \u001b[38;5;241m==\u001b[39m \u001b[38;5;241m0\u001b[39m):\n\u001b[1;32m    383\u001b[0m             x\u001b[38;5;241m.\u001b[39mappend(torch\u001b[38;5;241m.\u001b[39mclip(x_t, \u001b[38;5;241m-\u001b[39m\u001b[38;5;241m1.0\u001b[39m, \u001b[38;5;241m1.0\u001b[39m))\n",
      "File \u001b[0;32m~/nfs/work/larry.lai/Conditional_Diffusion/lib/python3.8/site-packages/torch/utils/_contextlib.py:115\u001b[0m, in \u001b[0;36mcontext_decorator.<locals>.decorate_context\u001b[0;34m(*args, **kwargs)\u001b[0m\n\u001b[1;32m    112\u001b[0m \u001b[38;5;129m@functools\u001b[39m\u001b[38;5;241m.\u001b[39mwraps(func)\n\u001b[1;32m    113\u001b[0m \u001b[38;5;28;01mdef\u001b[39;00m \u001b[38;5;21mdecorate_context\u001b[39m(\u001b[38;5;241m*\u001b[39margs, \u001b[38;5;241m*\u001b[39m\u001b[38;5;241m*\u001b[39mkwargs):\n\u001b[1;32m    114\u001b[0m     \u001b[38;5;28;01mwith\u001b[39;00m ctx_factory():\n\u001b[0;32m--> 115\u001b[0m         \u001b[38;5;28;01mreturn\u001b[39;00m \u001b[43mfunc\u001b[49m\u001b[43m(\u001b[49m\u001b[38;5;241;43m*\u001b[39;49m\u001b[43margs\u001b[49m\u001b[43m,\u001b[49m\u001b[43m \u001b[49m\u001b[38;5;241;43m*\u001b[39;49m\u001b[38;5;241;43m*\u001b[39;49m\u001b[43mkwargs\u001b[49m\u001b[43m)\u001b[49m\n",
      "File \u001b[0;32m~/nfs/work/larry.lai/Conditional_Diffusion/models/engine.py:327\u001b[0m, in \u001b[0;36mDDIMSampler.sample_one_step\u001b[0;34m(self, x_t, time_step, atr, obj, prev_time_step, eta)\u001b[0m\n\u001b[1;32m    324\u001b[0m alpha_t_prev \u001b[38;5;241m=\u001b[39m extract(\u001b[38;5;28mself\u001b[39m\u001b[38;5;241m.\u001b[39malpha_t_bar, prev_t, x_t\u001b[38;5;241m.\u001b[39mshape)\n\u001b[1;32m    326\u001b[0m \u001b[38;5;66;03m# predict conditional noise and unconditional noise using model\u001b[39;00m\n\u001b[0;32m--> 327\u001b[0m epsilon_theta_t \u001b[38;5;241m=\u001b[39m \u001b[38;5;28;43mself\u001b[39;49m\u001b[38;5;241;43m.\u001b[39;49m\u001b[43mmodel\u001b[49m\u001b[43m(\u001b[49m\u001b[43mx_t\u001b[49m\u001b[43m,\u001b[49m\u001b[43m \u001b[49m\u001b[43mt\u001b[49m\u001b[43m,\u001b[49m\u001b[43m \u001b[49m\u001b[43matr\u001b[49m\u001b[43m,\u001b[49m\u001b[43m \u001b[49m\u001b[43mobj\u001b[49m\u001b[43m)\u001b[49m\n\u001b[1;32m    328\u001b[0m unc_epsilon_theta_t \u001b[38;5;241m=\u001b[39m \u001b[38;5;28mself\u001b[39m\u001b[38;5;241m.\u001b[39mmodel(x_t, t, obj, atr, force_drop_ids\u001b[38;5;241m=\u001b[39m\u001b[38;5;28;01mTrue\u001b[39;00m)\n\u001b[1;32m    330\u001b[0m \u001b[38;5;66;03m# classifier-free guidance\u001b[39;00m\n",
      "File \u001b[0;32m~/nfs/work/larry.lai/Conditional_Diffusion/lib/python3.8/site-packages/torch/nn/modules/module.py:1501\u001b[0m, in \u001b[0;36mModule._call_impl\u001b[0;34m(self, *args, **kwargs)\u001b[0m\n\u001b[1;32m   1496\u001b[0m \u001b[38;5;66;03m# If we don't have any hooks, we want to skip the rest of the logic in\u001b[39;00m\n\u001b[1;32m   1497\u001b[0m \u001b[38;5;66;03m# this function, and just call forward.\u001b[39;00m\n\u001b[1;32m   1498\u001b[0m \u001b[38;5;28;01mif\u001b[39;00m \u001b[38;5;129;01mnot\u001b[39;00m (\u001b[38;5;28mself\u001b[39m\u001b[38;5;241m.\u001b[39m_backward_hooks \u001b[38;5;129;01mor\u001b[39;00m \u001b[38;5;28mself\u001b[39m\u001b[38;5;241m.\u001b[39m_backward_pre_hooks \u001b[38;5;129;01mor\u001b[39;00m \u001b[38;5;28mself\u001b[39m\u001b[38;5;241m.\u001b[39m_forward_hooks \u001b[38;5;129;01mor\u001b[39;00m \u001b[38;5;28mself\u001b[39m\u001b[38;5;241m.\u001b[39m_forward_pre_hooks\n\u001b[1;32m   1499\u001b[0m         \u001b[38;5;129;01mor\u001b[39;00m _global_backward_pre_hooks \u001b[38;5;129;01mor\u001b[39;00m _global_backward_hooks\n\u001b[1;32m   1500\u001b[0m         \u001b[38;5;129;01mor\u001b[39;00m _global_forward_hooks \u001b[38;5;129;01mor\u001b[39;00m _global_forward_pre_hooks):\n\u001b[0;32m-> 1501\u001b[0m     \u001b[38;5;28;01mreturn\u001b[39;00m \u001b[43mforward_call\u001b[49m\u001b[43m(\u001b[49m\u001b[38;5;241;43m*\u001b[39;49m\u001b[43margs\u001b[49m\u001b[43m,\u001b[49m\u001b[43m \u001b[49m\u001b[38;5;241;43m*\u001b[39;49m\u001b[38;5;241;43m*\u001b[39;49m\u001b[43mkwargs\u001b[49m\u001b[43m)\u001b[49m\n\u001b[1;32m   1502\u001b[0m \u001b[38;5;66;03m# Do not call functions when jit is used\u001b[39;00m\n\u001b[1;32m   1503\u001b[0m full_backward_hooks, non_full_backward_hooks \u001b[38;5;241m=\u001b[39m [], []\n",
      "File \u001b[0;32m~/nfs/work/larry.lai/Conditional_Diffusion/models/unet.py:589\u001b[0m, in \u001b[0;36mUNetAdaGN.forward\u001b[0;34m(self, x, t, atr, obj, force_drop_ids)\u001b[0m\n\u001b[1;32m    587\u001b[0m \u001b[38;5;28;01mfor\u001b[39;00m layer \u001b[38;5;129;01min\u001b[39;00m \u001b[38;5;28mself\u001b[39m\u001b[38;5;241m.\u001b[39moutput_blocks:\n\u001b[1;32m    588\u001b[0m     h \u001b[38;5;241m=\u001b[39m torch\u001b[38;5;241m.\u001b[39mcat([h, hs\u001b[38;5;241m.\u001b[39mpop()], dim\u001b[38;5;241m=\u001b[39m\u001b[38;5;241m1\u001b[39m)\n\u001b[0;32m--> 589\u001b[0m     h \u001b[38;5;241m=\u001b[39m \u001b[43mlayer\u001b[49m\u001b[43m(\u001b[49m\u001b[43mh\u001b[49m\u001b[43m,\u001b[49m\u001b[43m \u001b[49m\u001b[43mtemb\u001b[49m\u001b[43m)\u001b[49m\n\u001b[1;32m    590\u001b[0m h \u001b[38;5;241m=\u001b[39m \u001b[38;5;28mself\u001b[39m\u001b[38;5;241m.\u001b[39mout(h)\n\u001b[1;32m    592\u001b[0m \u001b[38;5;28;01massert\u001b[39;00m \u001b[38;5;28mlen\u001b[39m(hs) \u001b[38;5;241m==\u001b[39m \u001b[38;5;241m0\u001b[39m\n",
      "File \u001b[0;32m~/nfs/work/larry.lai/Conditional_Diffusion/lib/python3.8/site-packages/torch/nn/modules/module.py:1501\u001b[0m, in \u001b[0;36mModule._call_impl\u001b[0;34m(self, *args, **kwargs)\u001b[0m\n\u001b[1;32m   1496\u001b[0m \u001b[38;5;66;03m# If we don't have any hooks, we want to skip the rest of the logic in\u001b[39;00m\n\u001b[1;32m   1497\u001b[0m \u001b[38;5;66;03m# this function, and just call forward.\u001b[39;00m\n\u001b[1;32m   1498\u001b[0m \u001b[38;5;28;01mif\u001b[39;00m \u001b[38;5;129;01mnot\u001b[39;00m (\u001b[38;5;28mself\u001b[39m\u001b[38;5;241m.\u001b[39m_backward_hooks \u001b[38;5;129;01mor\u001b[39;00m \u001b[38;5;28mself\u001b[39m\u001b[38;5;241m.\u001b[39m_backward_pre_hooks \u001b[38;5;129;01mor\u001b[39;00m \u001b[38;5;28mself\u001b[39m\u001b[38;5;241m.\u001b[39m_forward_hooks \u001b[38;5;129;01mor\u001b[39;00m \u001b[38;5;28mself\u001b[39m\u001b[38;5;241m.\u001b[39m_forward_pre_hooks\n\u001b[1;32m   1499\u001b[0m         \u001b[38;5;129;01mor\u001b[39;00m _global_backward_pre_hooks \u001b[38;5;129;01mor\u001b[39;00m _global_backward_hooks\n\u001b[1;32m   1500\u001b[0m         \u001b[38;5;129;01mor\u001b[39;00m _global_forward_hooks \u001b[38;5;129;01mor\u001b[39;00m _global_forward_pre_hooks):\n\u001b[0;32m-> 1501\u001b[0m     \u001b[38;5;28;01mreturn\u001b[39;00m \u001b[43mforward_call\u001b[49m\u001b[43m(\u001b[49m\u001b[38;5;241;43m*\u001b[39;49m\u001b[43margs\u001b[49m\u001b[43m,\u001b[49m\u001b[43m \u001b[49m\u001b[38;5;241;43m*\u001b[39;49m\u001b[38;5;241;43m*\u001b[39;49m\u001b[43mkwargs\u001b[49m\u001b[43m)\u001b[49m\n\u001b[1;32m   1502\u001b[0m \u001b[38;5;66;03m# Do not call functions when jit is used\u001b[39;00m\n\u001b[1;32m   1503\u001b[0m full_backward_hooks, non_full_backward_hooks \u001b[38;5;241m=\u001b[39m [], []\n",
      "File \u001b[0;32m~/nfs/work/larry.lai/Conditional_Diffusion/models/unet.py:149\u001b[0m, in \u001b[0;36mTimestepEmbedSequential.forward\u001b[0;34m(self, x, emb, condition, context)\u001b[0m\n\u001b[1;32m    147\u001b[0m     x \u001b[38;5;241m=\u001b[39m layer(x, emb, condition)\n\u001b[1;32m    148\u001b[0m \u001b[38;5;28;01melif\u001b[39;00m \u001b[38;5;28misinstance\u001b[39m(layer, ResBlock) \u001b[38;5;129;01mor\u001b[39;00m \u001b[38;5;28misinstance\u001b[39m(layer, ResBlockAdaGN):\n\u001b[0;32m--> 149\u001b[0m     x \u001b[38;5;241m=\u001b[39m \u001b[43mlayer\u001b[49m\u001b[43m(\u001b[49m\u001b[43mx\u001b[49m\u001b[43m,\u001b[49m\u001b[43m \u001b[49m\u001b[43memb\u001b[49m\u001b[43m)\u001b[49m\n\u001b[1;32m    150\u001b[0m \u001b[38;5;28;01melif\u001b[39;00m \u001b[38;5;28misinstance\u001b[39m(layer, SpatialTransformer):\n\u001b[1;32m    151\u001b[0m     x \u001b[38;5;241m=\u001b[39m layer(x, context)\n",
      "File \u001b[0;32m~/nfs/work/larry.lai/Conditional_Diffusion/lib/python3.8/site-packages/torch/nn/modules/module.py:1501\u001b[0m, in \u001b[0;36mModule._call_impl\u001b[0;34m(self, *args, **kwargs)\u001b[0m\n\u001b[1;32m   1496\u001b[0m \u001b[38;5;66;03m# If we don't have any hooks, we want to skip the rest of the logic in\u001b[39;00m\n\u001b[1;32m   1497\u001b[0m \u001b[38;5;66;03m# this function, and just call forward.\u001b[39;00m\n\u001b[1;32m   1498\u001b[0m \u001b[38;5;28;01mif\u001b[39;00m \u001b[38;5;129;01mnot\u001b[39;00m (\u001b[38;5;28mself\u001b[39m\u001b[38;5;241m.\u001b[39m_backward_hooks \u001b[38;5;129;01mor\u001b[39;00m \u001b[38;5;28mself\u001b[39m\u001b[38;5;241m.\u001b[39m_backward_pre_hooks \u001b[38;5;129;01mor\u001b[39;00m \u001b[38;5;28mself\u001b[39m\u001b[38;5;241m.\u001b[39m_forward_hooks \u001b[38;5;129;01mor\u001b[39;00m \u001b[38;5;28mself\u001b[39m\u001b[38;5;241m.\u001b[39m_forward_pre_hooks\n\u001b[1;32m   1499\u001b[0m         \u001b[38;5;129;01mor\u001b[39;00m _global_backward_pre_hooks \u001b[38;5;129;01mor\u001b[39;00m _global_backward_hooks\n\u001b[1;32m   1500\u001b[0m         \u001b[38;5;129;01mor\u001b[39;00m _global_forward_hooks \u001b[38;5;129;01mor\u001b[39;00m _global_forward_pre_hooks):\n\u001b[0;32m-> 1501\u001b[0m     \u001b[38;5;28;01mreturn\u001b[39;00m \u001b[43mforward_call\u001b[49m\u001b[43m(\u001b[49m\u001b[38;5;241;43m*\u001b[39;49m\u001b[43margs\u001b[49m\u001b[43m,\u001b[49m\u001b[43m \u001b[49m\u001b[38;5;241;43m*\u001b[39;49m\u001b[38;5;241;43m*\u001b[39;49m\u001b[43mkwargs\u001b[49m\u001b[43m)\u001b[49m\n\u001b[1;32m   1502\u001b[0m \u001b[38;5;66;03m# Do not call functions when jit is used\u001b[39;00m\n\u001b[1;32m   1503\u001b[0m full_backward_hooks, non_full_backward_hooks \u001b[38;5;241m=\u001b[39m [], []\n",
      "File \u001b[0;32m~/nfs/work/larry.lai/Conditional_Diffusion/models/unet.py:257\u001b[0m, in \u001b[0;36mResBlockAdaGN.forward\u001b[0;34m(self, x, temb, scale)\u001b[0m\n\u001b[1;32m    255\u001b[0m \u001b[38;5;28;01mdef\u001b[39;00m \u001b[38;5;21mforward\u001b[39m(\u001b[38;5;28mself\u001b[39m, x, temb, scale\u001b[38;5;241m=\u001b[39m\u001b[38;5;241m1.0\u001b[39m):\n\u001b[1;32m    256\u001b[0m     h \u001b[38;5;241m=\u001b[39m x\n\u001b[0;32m--> 257\u001b[0m     h \u001b[38;5;241m=\u001b[39m \u001b[38;5;28;43mself\u001b[39;49m\u001b[38;5;241;43m.\u001b[39;49m\u001b[43mnorm1\u001b[49m\u001b[43m(\u001b[49m\u001b[43mh\u001b[49m\u001b[43m,\u001b[49m\u001b[43m \u001b[49m\u001b[43mtemb\u001b[49m\u001b[43m)\u001b[49m\n\u001b[1;32m    258\u001b[0m     h \u001b[38;5;241m=\u001b[39m \u001b[38;5;28mself\u001b[39m\u001b[38;5;241m.\u001b[39mnonlinear(h)\n\u001b[1;32m    259\u001b[0m     h \u001b[38;5;241m=\u001b[39m \u001b[38;5;28mself\u001b[39m\u001b[38;5;241m.\u001b[39mconv1(h)\n",
      "File \u001b[0;32m~/nfs/work/larry.lai/Conditional_Diffusion/lib/python3.8/site-packages/torch/nn/modules/module.py:1501\u001b[0m, in \u001b[0;36mModule._call_impl\u001b[0;34m(self, *args, **kwargs)\u001b[0m\n\u001b[1;32m   1496\u001b[0m \u001b[38;5;66;03m# If we don't have any hooks, we want to skip the rest of the logic in\u001b[39;00m\n\u001b[1;32m   1497\u001b[0m \u001b[38;5;66;03m# this function, and just call forward.\u001b[39;00m\n\u001b[1;32m   1498\u001b[0m \u001b[38;5;28;01mif\u001b[39;00m \u001b[38;5;129;01mnot\u001b[39;00m (\u001b[38;5;28mself\u001b[39m\u001b[38;5;241m.\u001b[39m_backward_hooks \u001b[38;5;129;01mor\u001b[39;00m \u001b[38;5;28mself\u001b[39m\u001b[38;5;241m.\u001b[39m_backward_pre_hooks \u001b[38;5;129;01mor\u001b[39;00m \u001b[38;5;28mself\u001b[39m\u001b[38;5;241m.\u001b[39m_forward_hooks \u001b[38;5;129;01mor\u001b[39;00m \u001b[38;5;28mself\u001b[39m\u001b[38;5;241m.\u001b[39m_forward_pre_hooks\n\u001b[1;32m   1499\u001b[0m         \u001b[38;5;129;01mor\u001b[39;00m _global_backward_pre_hooks \u001b[38;5;129;01mor\u001b[39;00m _global_backward_hooks\n\u001b[1;32m   1500\u001b[0m         \u001b[38;5;129;01mor\u001b[39;00m _global_forward_hooks \u001b[38;5;129;01mor\u001b[39;00m _global_forward_pre_hooks):\n\u001b[0;32m-> 1501\u001b[0m     \u001b[38;5;28;01mreturn\u001b[39;00m \u001b[43mforward_call\u001b[49m\u001b[43m(\u001b[49m\u001b[38;5;241;43m*\u001b[39;49m\u001b[43margs\u001b[49m\u001b[43m,\u001b[49m\u001b[43m \u001b[49m\u001b[38;5;241;43m*\u001b[39;49m\u001b[38;5;241;43m*\u001b[39;49m\u001b[43mkwargs\u001b[49m\u001b[43m)\u001b[49m\n\u001b[1;32m   1502\u001b[0m \u001b[38;5;66;03m# Do not call functions when jit is used\u001b[39;00m\n\u001b[1;32m   1503\u001b[0m full_backward_hooks, non_full_backward_hooks \u001b[38;5;241m=\u001b[39m [], []\n",
      "File \u001b[0;32m~/nfs/work/larry.lai/Conditional_Diffusion/models/unet.py:103\u001b[0m, in \u001b[0;36mAdaGroupNorm.forward\u001b[0;34m(self, x, emb)\u001b[0m\n\u001b[1;32m    100\u001b[0m scale, shift \u001b[38;5;241m=\u001b[39m emb\u001b[38;5;241m.\u001b[39mchunk(\u001b[38;5;241m2\u001b[39m, dim\u001b[38;5;241m=\u001b[39m\u001b[38;5;241m1\u001b[39m)\n\u001b[1;32m    102\u001b[0m x \u001b[38;5;241m=\u001b[39m F\u001b[38;5;241m.\u001b[39mgroup_norm(x, \u001b[38;5;28mself\u001b[39m\u001b[38;5;241m.\u001b[39mnum_groups, eps\u001b[38;5;241m=\u001b[39m\u001b[38;5;28mself\u001b[39m\u001b[38;5;241m.\u001b[39meps)\n\u001b[0;32m--> 103\u001b[0m x \u001b[38;5;241m=\u001b[39m \u001b[43mx\u001b[49m\u001b[43m \u001b[49m\u001b[38;5;241;43m*\u001b[39;49m\u001b[43m \u001b[49m\u001b[43m(\u001b[49m\u001b[38;5;241;43m1\u001b[39;49m\u001b[43m \u001b[49m\u001b[38;5;241;43m+\u001b[39;49m\u001b[43m \u001b[49m\u001b[43mscale\u001b[49m\u001b[43m)\u001b[49m\u001b[43m \u001b[49m\u001b[38;5;241;43m+\u001b[39;49m\u001b[43m \u001b[49m\u001b[43mshift\u001b[49m\n\u001b[1;32m    104\u001b[0m \u001b[38;5;28;01mreturn\u001b[39;00m x\n",
      "\u001b[0;31mOutOfMemoryError\u001b[0m: CUDA out of memory. Tried to allocate 500.00 MiB (GPU 0; 31.75 GiB total capacity; 10.38 GiB already allocated; 423.69 MiB free; 11.52 GiB reserved in total by PyTorch) If reserved memory is >> allocated memory try setting max_split_size_mb to avoid fragmentation.  See documentation for Memory Management and PYTORCH_CUDA_ALLOC_CONF"
     ]
    }
   ],
   "source": [
    "from config import Zappo50K, toy_dataset, CelebA\n",
    "\n",
    "if args.dataset == \"Zappo50K\":\n",
    "    CFG = Zappo50K()\n",
    "elif args.dataset == \"CelebA\":\n",
    "    CFG = CelebA()\n",
    "else:\n",
    "    CFG = toy_dataset()\n",
    "# CFG = Zappo50K()\n",
    "# missing = \"Heel Slipper\"\n",
    "# targets = [\"Flat Boot\", \"Flat Shoe\", \"Flat Slipper\", \"Flat Sandal\", \"Heel Boot\", \"Heel Shoe\", \"Heel Sandal\"]\n",
    "missing = \"Heel Slipper\"\n",
    "targets = [\"Brown_Hair Male\", \"Black_Hair Male\", \"Gray_Hair Male\", \"Blond_Hair Male\", \"Brown_Hair Female\", \"Black_Hair Female\", \"Blond_Hair Female\"]\n",
    "\n",
    "atr, obj = CFG.ATR2IDX[missing.split(\" \")[0]], CFG.OBJ2IDX[missing.split(\" \")[-1]]\n",
    "atr = torch.tensor(atr, dtype=torch.long, device=device).repeat(args.num_sample_missing)\n",
    "obj = torch.tensor(obj, dtype=torch.long, device=device).repeat(args.num_sample_missing)\n",
    "x_i = torch.randn(args.num_sample_missing, 3, 64, 64).to(device)\n",
    "x0 = sampler(x_i, atr, obj, steps=100)\n",
    "x0 = x0 * 0.5 + 0.5\n",
    "x0 = x0.cpu()\n",
    "i = 0\n",
    "os.makedirs(os.path.join(\"SampledImg\", args.dataset, args.exp), exist_ok=True)\n",
    "for x in x0:\n",
    "    img = transforms.ToPILImage(x)\n",
    "    img.save(os.path.join(\"SampledImg\", args.dataset, args.exp, \"{:05d}.jpg\".format(i)))\n",
    "    i += 1\n",
    "# save_image(x0, \"SampledImg/DualCond/GrayFemaleAdaGN.png\", nrow=10, noramlized=True)\n",
    "\n",
    "# images = []\n",
    "# for target in targets:\n",
    "#     atr, obj = CFG.ATR2IDX[target.split(\" \")[0]], CFG.OBJ2IDX[target.split(\" \")[-1]]\n",
    "#     atr = torch.tensor(atr, dtype=torch.long, device=device).repeat(args.num_sample)\n",
    "#     obj = torch.tensor(obj, dtype=torch.long, device=device).repeat(args.num_sample)\n",
    "\n",
    "#     x_i = torch.randn(args.num_sample, 3, 64, 64).to(device)\n",
    "#     x0 = sampler(x_i, atr, obj, steps=100)\n",
    "#     x0 = x0 * 0.5 + 0.5\n",
    "#     images.append(x0)\n",
    "# images = torch.concatenate(images, dim=0)\n",
    "# save_image(images, \"SampledImg/DualCond/SeenAdaGN.png\", nrow=args.num_sample, normalized=True)"
   ]
  },
  {
   "cell_type": "code",
   "execution_count": 12,
   "id": "724d5db9",
   "metadata": {},
   "outputs": [],
   "source": [
    "def _image_grid(imgs, rows, cols):\n",
    "        \"\"\"\n",
    "        input -\n",
    "        1. imgs - np array dims num_images x **(image_dims)\n",
    "        2. rows, cols - number of rows and columns in the image grid\n",
    "        output - \n",
    "        1. saved image grid on the disk at the end when all the images are pasted after multiple iterations\n",
    "        \"\"\"\n",
    "        n,c,w,h = imgs.shape\n",
    "\n",
    "        grid = Image.new('RGB', size=(cols*w, rows*h))\n",
    "        \n",
    "        if isinstance(imgs, torch.Tensor):\n",
    "            imgs = imgs.cpu().numpy()\n",
    "\n",
    "        grid_w, grid_h = grid.size\n",
    "        for idx in range(n):\n",
    "            img = imgs[idx,:].squeeze()\n",
    "            img = Image.fromarray(img)\n",
    "            if img.mode != 'RGB':\n",
    "                img = img.convert('RGB')\n",
    "            grid.paste(img, box=(idx*w, 0))\n",
    "        return grid"
   ]
  },
  {
   "cell_type": "code",
   "execution_count": 24,
   "id": "13d7131a",
   "metadata": {},
   "outputs": [
    {
     "data": {
      "text/plain": [
       "3"
      ]
     },
     "execution_count": 24,
     "metadata": {},
     "output_type": "execute_result"
    }
   ],
   "source": [
    "imgs = images.cpu().numpy()\n",
    "img = imgs[0, :].squeeze()\n",
    "# img = Image.fromarray((img * 255).astype(np.uint8))"
   ]
  },
  {
   "cell_type": "code",
   "execution_count": 14,
   "id": "48cafe2d",
   "metadata": {},
   "outputs": [
    {
     "name": "stdout",
     "output_type": "stream",
     "text": [
      "0001\n"
     ]
    }
   ],
   "source": [
    "print(\"{:04d}\".format(1))"
   ]
  },
  {
   "cell_type": "code",
   "execution_count": 59,
   "id": "65e3e753",
   "metadata": {},
   "outputs": [
    {
     "name": "stdout",
     "output_type": "stream",
     "text": [
      "Gray_Hair Female 1011\n",
      "Black_Hair Female 18652\n",
      "Brown_Hair Male 10230\n",
      "Blond_Hair Male 1399\n",
      "Blond_Hair Female 22587\n",
      "Gray_Hair Male 5788\n",
      "Black_Hair Male 20124\n",
      "Brown_Hair Female 23027\n"
     ]
    }
   ],
   "source": [
    "from glob import glob\n",
    "import os\n",
    "import random\n",
    "import shutil\n",
    "\n",
    "data_root = \"data/CelebA\"\n",
    "train_root = \"data/CelebA_train\"\n",
    "val_root = \"data/CelebA_val\"\n",
    "os.makedirs(train_root, exist_ok=True)\n",
    "os.makedirs(val_root, exist_ok=True)\n",
    "\n",
    "for target in os.listdir(data_root):\n",
    "    os.makedirs(os.path.join(train_root, target), exist_ok=True)\n",
    "    images = glob(os.path.join(data_root, target, \"*.jpg\"))\n",
    "    train_imgs = random.sample(images, int(0.8 * len(images)))\n",
    "    for img in train_imgs:\n",
    "        name = img.split(\"/\")[-1]\n",
    "        shutil.move(img, os.path.join(train_root, target, name))\n",
    "    print(target, len(train_imgs))\n"
   ]
  },
  {
   "cell_type": "code",
   "execution_count": 60,
   "id": "c6d5f724",
   "metadata": {},
   "outputs": [
    {
     "name": "stdout",
     "output_type": "stream",
     "text": [
      "Gray_Hair Female 253\n",
      "Black_Hair Female 4664\n",
      "Brown_Hair Male 2558\n",
      "Blond_Hair Male 350\n",
      "Blond_Hair Female 5647\n",
      "Gray_Hair Male 1447\n",
      "Black_Hair Male 5032\n",
      "Brown_Hair Female 5757\n"
     ]
    }
   ],
   "source": [
    "for target in os.listdir(data_root):\n",
    "    os.makedirs(os.path.join(val_root, target), exist_ok=True)\n",
    "    images = glob(os.path.join(data_root, target, \"*.jpg\"))\n",
    "    for img in images:\n",
    "        name = img.split(\"/\")[-1]\n",
    "        shutil.move(img, os.path.join(val_root, target, name))\n",
    "    print(target, len(images))"
   ]
  },
  {
   "cell_type": "code",
   "execution_count": null,
   "id": "feba2aec",
   "metadata": {},
   "outputs": [],
   "source": []
  }
 ],
 "metadata": {
  "kernelspec": {
   "display_name": "Conditional_Diffusion",
   "language": "python",
   "name": "conditional_diffusion"
  },
  "language_info": {
   "codemirror_mode": {
    "name": "ipython",
    "version": 3
   },
   "file_extension": ".py",
   "mimetype": "text/x-python",
   "name": "python",
   "nbconvert_exporter": "python",
   "pygments_lexer": "ipython3",
   "version": "3.8.10"
  }
 },
 "nbformat": 4,
 "nbformat_minor": 5
}
