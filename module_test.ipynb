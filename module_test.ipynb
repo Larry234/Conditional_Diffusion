{
 "cells": [
  {
   "cell_type": "code",
   "execution_count": 1,
   "id": "cc9e2592",
   "metadata": {},
   "outputs": [],
   "source": [
    "import torch\n",
    "import torch.nn.functional as F\n",
    "from datasets import *\n",
    "from torchvision import transforms\n",
    "from torch.utils.data import DataLoader\n",
    "from models.ddpm_scheduler import NoiseScheduler\n",
    "from models.ddpm import *\n",
    "from models.embedding import * \n",
    "from models.mlp import *"
   ]
  },
  {
   "cell_type": "code",
   "execution_count": 55,
   "id": "774fa078",
   "metadata": {},
   "outputs": [
    {
     "name": "stdout",
     "output_type": "stream",
     "text": [
      "[[-1.         -1.        ]\n",
      " [-0.77777778 -0.77777778]\n",
      " [-0.55555556 -0.55555556]\n",
      " [-0.33333333 -0.33333333]\n",
      " [-0.11111111 -0.11111111]\n",
      " [ 0.11111111  0.11111111]\n",
      " [ 0.33333333  0.33333333]\n",
      " [ 0.55555556  0.55555556]\n",
      " [ 0.77777778  0.77777778]\n",
      " [ 1.          1.        ]]\n",
      "[[ 0.          0.        ]\n",
      " [ 1.11111111  1.11111111]\n",
      " [ 2.22222222  2.22222222]\n",
      " [ 3.33333333  3.33333333]\n",
      " [ 4.44444444  4.44444444]\n",
      " [ 5.55555556  5.55555556]\n",
      " [ 6.66666667  6.66666667]\n",
      " [ 7.77777778  7.77777778]\n",
      " [ 8.88888889  8.88888889]\n",
      " [10.         10.        ]]\n"
     ]
    }
   ],
   "source": [
    "import matplotlib.pyplot as plt\n",
    "\n",
    "x = np.linspace(0, 10, 10)\n",
    "x = np.stack((x, x), axis=1)\n",
    "x = (x - 5) / 5\n",
    "print(x)\n",
    "x = x * 5 + 5\n",
    "print(x)"
   ]
  },
  {
   "cell_type": "code",
   "execution_count": 44,
   "id": "f8f679bf",
   "metadata": {},
   "outputs": [
    {
     "data": {
      "text/plain": [
       "\u001b[0;31mSignature:\u001b[0m\n",
       "\u001b[0mnp\u001b[0m\u001b[0;34m.\u001b[0m\u001b[0mlinspace\u001b[0m\u001b[0;34m(\u001b[0m\u001b[0;34m\u001b[0m\n",
       "\u001b[0;34m\u001b[0m    \u001b[0mstart\u001b[0m\u001b[0;34m,\u001b[0m\u001b[0;34m\u001b[0m\n",
       "\u001b[0;34m\u001b[0m    \u001b[0mstop\u001b[0m\u001b[0;34m,\u001b[0m\u001b[0;34m\u001b[0m\n",
       "\u001b[0;34m\u001b[0m    \u001b[0mnum\u001b[0m\u001b[0;34m=\u001b[0m\u001b[0;36m50\u001b[0m\u001b[0;34m,\u001b[0m\u001b[0;34m\u001b[0m\n",
       "\u001b[0;34m\u001b[0m    \u001b[0mendpoint\u001b[0m\u001b[0;34m=\u001b[0m\u001b[0;32mTrue\u001b[0m\u001b[0;34m,\u001b[0m\u001b[0;34m\u001b[0m\n",
       "\u001b[0;34m\u001b[0m    \u001b[0mretstep\u001b[0m\u001b[0;34m=\u001b[0m\u001b[0;32mFalse\u001b[0m\u001b[0;34m,\u001b[0m\u001b[0;34m\u001b[0m\n",
       "\u001b[0;34m\u001b[0m    \u001b[0mdtype\u001b[0m\u001b[0;34m=\u001b[0m\u001b[0;32mNone\u001b[0m\u001b[0;34m,\u001b[0m\u001b[0;34m\u001b[0m\n",
       "\u001b[0;34m\u001b[0m    \u001b[0maxis\u001b[0m\u001b[0;34m=\u001b[0m\u001b[0;36m0\u001b[0m\u001b[0;34m,\u001b[0m\u001b[0;34m\u001b[0m\n",
       "\u001b[0;34m\u001b[0m\u001b[0;34m)\u001b[0m\u001b[0;34m\u001b[0m\u001b[0;34m\u001b[0m\u001b[0m\n",
       "\u001b[0;31mDocstring:\u001b[0m\n",
       "Return evenly spaced numbers over a specified interval.\n",
       "\n",
       "Returns `num` evenly spaced samples, calculated over the\n",
       "interval [`start`, `stop`].\n",
       "\n",
       "The endpoint of the interval can optionally be excluded.\n",
       "\n",
       ".. versionchanged:: 1.16.0\n",
       "    Non-scalar `start` and `stop` are now supported.\n",
       "\n",
       ".. versionchanged:: 1.20.0\n",
       "    Values are rounded towards ``-inf`` instead of ``0`` when an\n",
       "    integer ``dtype`` is specified. The old behavior can\n",
       "    still be obtained with ``np.linspace(start, stop, num).astype(int)``\n",
       "\n",
       "Parameters\n",
       "----------\n",
       "start : array_like\n",
       "    The starting value of the sequence.\n",
       "stop : array_like\n",
       "    The end value of the sequence, unless `endpoint` is set to False.\n",
       "    In that case, the sequence consists of all but the last of ``num + 1``\n",
       "    evenly spaced samples, so that `stop` is excluded.  Note that the step\n",
       "    size changes when `endpoint` is False.\n",
       "num : int, optional\n",
       "    Number of samples to generate. Default is 50. Must be non-negative.\n",
       "endpoint : bool, optional\n",
       "    If True, `stop` is the last sample. Otherwise, it is not included.\n",
       "    Default is True.\n",
       "retstep : bool, optional\n",
       "    If True, return (`samples`, `step`), where `step` is the spacing\n",
       "    between samples.\n",
       "dtype : dtype, optional\n",
       "    The type of the output array.  If `dtype` is not given, the data type\n",
       "    is inferred from `start` and `stop`. The inferred dtype will never be\n",
       "    an integer; `float` is chosen even if the arguments would produce an\n",
       "    array of integers.\n",
       "\n",
       "    .. versionadded:: 1.9.0\n",
       "\n",
       "axis : int, optional\n",
       "    The axis in the result to store the samples.  Relevant only if start\n",
       "    or stop are array-like.  By default (0), the samples will be along a\n",
       "    new axis inserted at the beginning. Use -1 to get an axis at the end.\n",
       "\n",
       "    .. versionadded:: 1.16.0\n",
       "\n",
       "Returns\n",
       "-------\n",
       "samples : ndarray\n",
       "    There are `num` equally spaced samples in the closed interval\n",
       "    ``[start, stop]`` or the half-open interval ``[start, stop)``\n",
       "    (depending on whether `endpoint` is True or False).\n",
       "step : float, optional\n",
       "    Only returned if `retstep` is True\n",
       "\n",
       "    Size of spacing between samples.\n",
       "\n",
       "\n",
       "See Also\n",
       "--------\n",
       "arange : Similar to `linspace`, but uses a step size (instead of the\n",
       "         number of samples).\n",
       "geomspace : Similar to `linspace`, but with numbers spaced evenly on a log\n",
       "            scale (a geometric progression).\n",
       "logspace : Similar to `geomspace`, but with the end points specified as\n",
       "           logarithms.\n",
       ":ref:`how-to-partition`\n",
       "\n",
       "Examples\n",
       "--------\n",
       ">>> np.linspace(2.0, 3.0, num=5)\n",
       "array([2.  , 2.25, 2.5 , 2.75, 3.  ])\n",
       ">>> np.linspace(2.0, 3.0, num=5, endpoint=False)\n",
       "array([2. ,  2.2,  2.4,  2.6,  2.8])\n",
       ">>> np.linspace(2.0, 3.0, num=5, retstep=True)\n",
       "(array([2.  ,  2.25,  2.5 ,  2.75,  3.  ]), 0.25)\n",
       "\n",
       "Graphical illustration:\n",
       "\n",
       ">>> import matplotlib.pyplot as plt\n",
       ">>> N = 8\n",
       ">>> y = np.zeros(N)\n",
       ">>> x1 = np.linspace(0, 10, N, endpoint=True)\n",
       ">>> x2 = np.linspace(0, 10, N, endpoint=False)\n",
       ">>> plt.plot(x1, y, 'o')\n",
       "[<matplotlib.lines.Line2D object at 0x...>]\n",
       ">>> plt.plot(x2, y + 0.5, 'o')\n",
       "[<matplotlib.lines.Line2D object at 0x...>]\n",
       ">>> plt.ylim([-0.5, 1])\n",
       "(-0.5, 1)\n",
       ">>> plt.show()\n",
       "\u001b[0;31mFile:\u001b[0m      ~/nfs/work/larry.lai/Conditional_Diffusion/lib/python3.8/site-packages/numpy/core/function_base.py\n",
       "\u001b[0;31mType:\u001b[0m      function"
      ]
     },
     "metadata": {},
     "output_type": "display_data"
    }
   ],
   "source": [
    "np.linspace?"
   ]
  },
  {
   "cell_type": "code",
   "execution_count": 9,
   "id": "dfafe0d4",
   "metadata": {},
   "outputs": [
    {
     "data": {
      "text/plain": [
       "tensor(0.9265, device='cuda:0', grad_fn=<MseLossBackward0>)"
      ]
     },
     "execution_count": 9,
     "metadata": {},
     "output_type": "execute_result"
    }
   ],
   "source": [
    "device = torch.device('cuda' if torch.cuda.is_available() else 'cpu')\n",
    "\n",
    "atr_embedding = LabelEmbedding(num_classes=5, hidden_size=10, dropout_prob=0.1).to(device)\n",
    "obj_embedding = LabelEmbedding(num_classes=5, hidden_size=10, dropout_prob=0.1).to(device)\n",
    "time_embedding = SinusoidalEmbedding(size=10)\n",
    "nn_model = MLP(\n",
    "    hidden_layers=3,\n",
    "    input_size=2,\n",
    "    emb_size=10,\n",
    "    hidden_size=32,\n",
    ").to(device)\n",
    "\n",
    "ns = NoiseScheduler(50)\n",
    "\n",
    "params = list(atr_embedding.parameters()) + list(obj_embedding.parameters()) + list(nn_model.parameters())\n",
    "optimizer = torch.optim.AdamW(params, lr=0.1)\n",
    "\n",
    "x = torch.FloatTensor([[0.9, 0.9]]).to(device)\n",
    "c = torch.LongTensor([[0,1]]).to(device)\n",
    "noise = torch.randn(x.size())\n",
    "timesteps = torch.randint(0, 50, (1,))\n",
    "\n",
    "c1, c2 = c[:, 0], c[:, 1]\n",
    "c1 = obj_embedding(c1)\n",
    "c2 = atr_embedding(c2)\n",
    "t = time_embedding(timesteps)\n",
    "x_t = ns.add_noise(x.cpu(), noise, timesteps)\n",
    "\n",
    "x_t = x_t.to(device)\n",
    "t = t.to(device)\n",
    "noise = noise.to(device)\n",
    "noise_pred = nn_model(x_t, c1, c2, t)\n",
    "loss = F.mse_loss(noise_pred, noise)\n",
    "loss.backward()"
   ]
  },
  {
   "cell_type": "code",
   "execution_count": 31,
   "id": "8c80afa2",
   "metadata": {},
   "outputs": [
    {
     "name": "stderr",
     "output_type": "stream",
     "text": [
      "100%|██████████| 50/50 [00:00<00:00, 985.94it/s]\n"
     ]
    },
    {
     "data": {
      "text/plain": [
       "torch.Size([25, 2])"
      ]
     },
     "execution_count": 31,
     "metadata": {},
     "output_type": "execute_result"
    }
   ],
   "source": [
    "from tqdm.auto import tqdm\n",
    "device = torch.device('cuda' if torch.cuda.is_available() else 'cpu')\n",
    "n_samples=25\n",
    "x_i = torch.randn(n_samples, 2).to(device)\n",
    "\n",
    "# timesteps list\n",
    "timesteps = list(range(50))[::-1]\n",
    "\n",
    "# create conditions of each class\n",
    "c1 = torch.arange(0, 5)\n",
    "c2 = torch.arange(0, 5)\n",
    "c1 = c1.repeat(5)\n",
    "c2 = c2.repeat(5)\n",
    "\n",
    "c1, c2 = c1.to(device), c2.to(device)\n",
    "\n",
    "# conditional embedding\n",
    "c1 = obj_embedding(c1)\n",
    "c2 = atr_embedding(c2)\n",
    "\n",
    "# unconditional embedding, create zero embedding vector\n",
    "c1_unc = torch.zeros(c1.size(), device=device)\n",
    "c2_unc = torch.zeros(c2.size(), device=device)\n",
    "\n",
    "for i, t in enumerate(tqdm(timesteps)):\n",
    "    t = torch.from_numpy(np.repeat(t, n_samples))\n",
    "    t_emb = time_embedding(t).to(device)\n",
    "#     t_emb = t_emb.to(device)\n",
    "    with torch.no_grad():\n",
    "        cond_pred = nn_model(x_i, c1, c2, t_emb)\n",
    "        uncond_pred = nn_model(x_i, c1_unc, c2_unc, t_emb)\n",
    "\n",
    "        # classifier-free guidance\n",
    "        eps = (1 + 0.1) * cond_pred - 0.1 * uncond_pred\n",
    "\n",
    "        x_i = ns.step(eps.cpu(), t[0], x_i.cpu()).to(device)\n",
    "x_i.size()\n"
   ]
  },
  {
   "cell_type": "code",
   "execution_count": 18,
   "id": "d9ed249d",
   "metadata": {},
   "outputs": [
    {
     "data": {
      "text/plain": [
       "array([49, 49, 49, 49, 49, 49, 49, 49, 49, 49, 49, 49, 49, 49, 49, 49, 49,\n",
       "       49, 49, 49, 49, 49, 49, 49, 49])"
      ]
     },
     "execution_count": 18,
     "metadata": {},
     "output_type": "execute_result"
    }
   ],
   "source": [
    "timesteps = list(range(50))[::-1]\n",
    "t = timesteps[0]\n",
    "t = torch.from_numpy(np.repeat(t, 25))"
   ]
  },
  {
   "cell_type": "code",
   "execution_count": 20,
   "id": "fb8abfaa",
   "metadata": {},
   "outputs": [
    {
     "data": {
      "text/plain": [
       "\u001b[0;31mDocstring:\u001b[0m\n",
       "from_numpy(ndarray) -> Tensor\n",
       "\n",
       "Creates a :class:`Tensor` from a :class:`numpy.ndarray`.\n",
       "\n",
       "The returned tensor and :attr:`ndarray` share the same memory. Modifications to\n",
       "the tensor will be reflected in the :attr:`ndarray` and vice versa. The returned\n",
       "tensor is not resizable.\n",
       "\n",
       "It currently accepts :attr:`ndarray` with dtypes of ``numpy.float64``,\n",
       "``numpy.float32``, ``numpy.float16``, ``numpy.complex64``, ``numpy.complex128``,\n",
       "``numpy.int64``, ``numpy.int32``, ``numpy.int16``, ``numpy.int8``, ``numpy.uint8``,\n",
       "and ``numpy.bool``.\n",
       "\n",
       ".. warning::\n",
       "    Writing to a tensor created from a read-only NumPy array is not supported and will result in undefined behavior.\n",
       "\n",
       "Example::\n",
       "\n",
       "    >>> a = numpy.array([1, 2, 3])\n",
       "    >>> t = torch.from_numpy(a)\n",
       "    >>> t\n",
       "    tensor([ 1,  2,  3])\n",
       "    >>> t[0] = -1\n",
       "    >>> a\n",
       "    array([-1,  2,  3])\n",
       "\u001b[0;31mType:\u001b[0m      builtin_function_or_method"
      ]
     },
     "metadata": {},
     "output_type": "display_data"
    }
   ],
   "source": [
    "torch.from_numpy?"
   ]
  },
  {
   "cell_type": "code",
   "execution_count": 6,
   "id": "99165efc",
   "metadata": {},
   "outputs": [
    {
     "name": "stdout",
     "output_type": "stream",
     "text": [
      "torch.Size([1, 2]) torch.Size([1, 10]) torch.Size([1, 10]) torch.Size([1, 10])\n"
     ]
    },
    {
     "data": {
      "text/plain": [
       "0.03332122415304184"
      ]
     },
     "execution_count": 6,
     "metadata": {},
     "output_type": "execute_result"
    }
   ],
   "source": [
    "x = torch.randn(1, 2).to(device)\n",
    "c1 = torch.Tensor([1]).to(device).type(torch.LongTensor).to(device)\n",
    "c2 = torch.Tensor([1]).to(device).type(torch.LongTensor).to(device)\n",
    "c = torch.stack((c1, c2), axis=1)\n",
    "loss = ddpm(x, c)\n",
    "loss.item()"
   ]
  },
  {
   "cell_type": "code",
   "execution_count": 20,
   "id": "77b0e8ad",
   "metadata": {},
   "outputs": [
    {
     "data": {
      "text/plain": [
       "tensor([[-0.6172, -1.2266,  0.3529, -0.3628, -0.5103, -1.1034,     nan,     nan]],\n",
       "       device='cuda:0', grad_fn=<CatBackward0>)"
      ]
     },
     "execution_count": 20,
     "metadata": {},
     "output_type": "execute_result"
    }
   ],
   "source": [
    "ea = a_emb(c1)\n",
    "eo = o_emb(c2)\n",
    "_t = torch.randint(1, 51, (1,)).to(device)\n",
    "t = t_emb(_t / 50)\n",
    "torch.cat((x, ea, eo, t), axis=-1)"
   ]
  },
  {
   "cell_type": "code",
   "execution_count": 10,
   "id": "667e4873",
   "metadata": {},
   "outputs": [
    {
     "data": {
      "text/plain": [
       "torch.Size([25, 2])"
      ]
     },
     "execution_count": 10,
     "metadata": {},
     "output_type": "execute_result"
    }
   ],
   "source": [
    "x = torch.randn(25, 2)\n",
    "c1 = torch.arange(0, 5).view(-1, 1)\n",
    "c2 = torch.arange(0, 5)\n",
    "c2 = c2.repeat(5)\n",
    "c1 = c1.repeat(1, 5)\n",
    "c1 = c1.view(-1)\n",
    "c = torch.stack((c1, c2), axis=1)\n",
    "c.size()"
   ]
  },
  {
   "cell_type": "code",
   "execution_count": null,
   "id": "02a6c2b4",
   "metadata": {},
   "outputs": [],
   "source": [
    "import numpy as np\n",
    "import matplotlib.pyplot as plt\n",
    "\n",
    "num_samples = 100\n",
    "radius = 1\n",
    "\n",
    "def generate_circle(center, radius, num_samples):\n",
    "    theta = np.linspace(0, 2*np.pi, num_samples)\n",
    "    centerX, centerY = center\n",
    "    a, b = radius * np.cos(theta) + centerX, radius * np.sin(theta) + centerY\n",
    "\n",
    "    r = np.random.rand((num_samples)) * radius\n",
    "    x, y = r * np.cos(theta) + centerX, r * np.sin(theta) + centerY\n",
    "    return np.stack((x, y), axis=1)\n",
    "\n",
    "\n",
    "p = generate_circle((1,1), 0.1, 100)\n",
    "\n",
    "# plt.figure(figsize=(7,6))\n",
    "# plt.plot(a, b, linestyle='-', linewidth=2, label='Circle')\n",
    "# plt.plot(x, y, marker='.', linestyle=\"\", label='Samples')\n",
    "# plt.ylim([-(radius + 1), radius + 1])\n",
    "# plt.xlim([-(radius + 1), radius + 1])\n",
    "# plt.grid()\n",
    "# plt.legend(loc='upper right')\n",
    "# plt.show(block=True)"
   ]
  },
  {
   "cell_type": "markdown",
   "id": "34bfdac1",
   "metadata": {},
   "source": [
    "# Generate point dataset"
   ]
  },
  {
   "cell_type": "code",
   "execution_count": 63,
   "id": "4b3ef241",
   "metadata": {},
   "outputs": [],
   "source": [
    "import os\n",
    "save_root = 'data/2DPoints'\n",
    "dirs = os.listdir(save_root)\n",
    "radius = 0.1\n",
    "num_samples = 100\n",
    "a = []\n",
    "\n",
    "for i in range(1, 6):\n",
    "    tmp = [i - 0.1] * 5\n",
    "    a.extend(tmp)\n",
    "b = list(map(lambda x: x - 0.1, range(1, 6))) * 5\n",
    "centers = list(zip(a,b))\n",
    "\n",
    "for center, d in zip(centers, dirs):\n",
    "    p = generate_circle(center, radius, num_samples)\n",
    "    d = f'A{int(center[0]+0.1)} B{int(center[1]+0.1)}'\n",
    "    np.save(os.path.join(save_root, d, 'points.npy'), p)"
   ]
  },
  {
   "cell_type": "code",
   "execution_count": 79,
   "id": "1a558660",
   "metadata": {},
   "outputs": [
    {
     "data": {
      "image/png": "[encoded data removed]",
      "text/plain": [
       "<Figure size 640x480 with 1 Axes>"
      ]
     },
     "metadata": {},
     "output_type": "display_data"
    }
   ],
   "source": [
    "from glob import glob\n",
    "npys = glob(os.path.join(save_root, '**', '*npy'))\n",
    "p = np.load('data/2DPoints/A1 B1/points.npy')\n",
    "plt.xticks(np.arange(0,6), ['', 'A1', 'A2', 'A3', 'A4', 'A5'])\n",
    "plt.yticks(np.arange(0,6), ['', 'B1', 'B2', 'B3', 'B4', 'B5'])\n",
    "plt.xlim([0, 6])\n",
    "plt.ylim([0, 6])\n",
    "\n",
    "for npy in npys:\n",
    "    p = np.load(npy)\n",
    "    plt.plot(p[:, 0], p[:, 1], marker='.', color='blue', linestyle=\"\")"
   ]
  },
  {
   "cell_type": "code",
   "execution_count": null,
   "id": "3bf9eca0",
   "metadata": {},
   "outputs": [],
   "source": []
  }
 ],
 "metadata": {
  "kernelspec": {
   "display_name": "conditionalDiffusion",
   "language": "python",
   "name": "conditionaldiffusion"
  },
  "language_info": {
   "codemirror_mode": {
    "name": "ipython",
    "version": 3
   },
   "file_extension": ".py",
   "mimetype": "text/x-python",
   "name": "python",
   "nbconvert_exporter": "python",
   "pygments_lexer": "ipython3",
   "version": "3.8.10"
  }
 },
 "nbformat": 4,
 "nbformat_minor": 5
}
