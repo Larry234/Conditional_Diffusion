{
 "cells": [
  {
   "cell_type": "code",
   "execution_count": 6,
   "id": "99d2a97d",
   "metadata": {},
   "outputs": [],
   "source": [
    "import cv2\n",
    "import numpy as np\n",
    "import os\n",
    "\n",
    "colors = {\n",
    "    'red': (0, 0, 255),\n",
    "    'green': (0, 255, 0),\n",
    "    'blue': (255, 0, 0),\n",
    "#     'yellow': (0, 255, 255),\n",
    "#     'black': (0, 0, 0),\n",
    "#     'purple': (240, 32, 160),\n",
    "}\n",
    "\n",
    "data_root = '/root/notebooks/nfs/work/dataset/toy_dataset_33_500'\n",
    "num_image = 500\n",
    "\n",
    "os.makedirs(data_root, exist_ok=True)"
   ]
  },
  {
   "cell_type": "markdown",
   "id": "bfb026a3",
   "metadata": {},
   "source": [
    "# Generate Circle"
   ]
  },
  {
   "cell_type": "code",
   "execution_count": 9,
   "id": "066da1d3",
   "metadata": {},
   "outputs": [],
   "source": [
    "obj = 'Circle'\n",
    "\n",
    "for k, v in colors.items():\n",
    "    os.makedirs(os.path.join(data_root, f'{k} {obj}'), exist_ok=True)\n",
    "    for i in range(num_image):\n",
    "        image = np.full((64, 64, 3), 255, dtype=np.uint8)\n",
    "        r = np.random.randint(2, 20)\n",
    "        x, y = np.random.randint(24, 42, size=(2,))\n",
    "        cv2.circle(image, (x, y), r, v, thickness=-1)\n",
    "        cv2.imwrite(os.path.join(data_root, f'{k} {obj}', \"{:05d}.jpg\".format(i)), image)\n",
    "        "
   ]
  },
  {
   "cell_type": "markdown",
   "id": "70914cde",
   "metadata": {},
   "source": [
    "# Generate Recangle"
   ]
  },
  {
   "cell_type": "code",
   "execution_count": 8,
   "id": "8ced1a50",
   "metadata": {},
   "outputs": [],
   "source": [
    "obj = 'Rectangle'\n",
    "\n",
    "for k, v in colors.items():\n",
    "    for i in range(num_image):\n",
    "        os.makedirs(os.path.join(data_root, f'{k} {obj}'), exist_ok=True)\n",
    "        image = np.full((64, 64, 3), 255, dtype=np.uint8)\n",
    "        x, y = np.random.randint(2, 34, size=(2,))\n",
    "        w, h = np.random.randint(2, 28), np.random.randint(2, 30)\n",
    "        cv2.rectangle(image, (x, y), (x + w, y + h), v, thickness=-1)\n",
    "        cv2.imwrite(os.path.join(data_root, f'{k} {obj}', \"{:05d}.jpg\".format(i)), image)"
   ]
  },
  {
   "cell_type": "markdown",
   "id": "fd597ea4",
   "metadata": {},
   "source": [
    "# Generate Triangle"
   ]
  },
  {
   "cell_type": "code",
   "execution_count": 10,
   "id": "73fb41f5",
   "metadata": {},
   "outputs": [],
   "source": [
    "obj = 'Triangle'\n",
    "\n",
    "for k, v in colors.items():\n",
    "    for i in range(num_image):\n",
    "        os.makedirs(os.path.join(data_root, f'{k} {obj}'), exist_ok=True)\n",
    "        image = np.full((64, 64, 3), 255, dtype=np.uint8)\n",
    "        x1, y1 = np.random.randint(5, 60), np.random.randint(2, 28)\n",
    "        x2, y2 = np.random.randint(2, 30), np.random.randint(34, 60)\n",
    "        x3, y3 = np.random.randint(34, 60, size=(2,))\n",
    "        points = np.array([(x1, y1), (x2, y2), (x3, y3)])\n",
    "        cv2.drawContours(image, [points], 0, v, thickness=-1)\n",
    "        cv2.imwrite(os.path.join(data_root, f'{k} {obj}', \"{:05d}.jpg\".format(i)), image)"
   ]
  },
  {
   "cell_type": "markdown",
   "id": "ba854488",
   "metadata": {},
   "source": [
    "# Generate Pentagon"
   ]
  },
  {
   "cell_type": "code",
   "execution_count": 5,
   "id": "f18cd55e",
   "metadata": {},
   "outputs": [],
   "source": [
    "obj = 'Pentagon'\n",
    "\n",
    "for k, v in colors.items():\n",
    "    os.makedirs(os.path.join(data_root, f'{k} {obj}'), exist_ok=True)\n",
    "    for i in range(num_image):\n",
    "        image = np.full((64, 64, 3), 255, dtype=np.uint8)\n",
    "        cx, cy = np.random.randint(25, 40, size=(2, ))\n",
    "        w, h = np.random.randint(20, 40, size=(2, ))\n",
    "        sw = int(w * (0.6 * np.random.rand(1) + 0.2))\n",
    "        p1 = (cx, cy - h // 2)\n",
    "        p2 = (cx - w // 2, cy)\n",
    "        p3 = (cx - sw // 2, cy + h // 2)\n",
    "        p4 = (cx + sw // 2, cy + h // 2)\n",
    "        p5 = (cx + w // 2, cy)\n",
    "        points = np.array([p1, p2, p3, p4, p5])\n",
    "        cv2.drawContours(image, [points], 0, v, thickness=-1)\n",
    "        cv2.imwrite(os.path.join(data_root, f'{k} {obj}', \"{:05d}.jpg\".format(i)), image)"
   ]
  },
  {
   "cell_type": "markdown",
   "id": "2d86190f",
   "metadata": {},
   "source": [
    "# Generate Oval"
   ]
  },
  {
   "cell_type": "code",
   "execution_count": 7,
   "id": "e32880b1",
   "metadata": {},
   "outputs": [],
   "source": [
    "obj = 'Oval'\n",
    "\n",
    "for k, v in colors.items():\n",
    "    os.makedirs(os.path.join(data_root, f'{k} {obj}'), exist_ok=True)\n",
    "    for i in range(num_image):\n",
    "        image = np.full((64, 64, 3), 255, dtype=np.uint8)\n",
    "        rotate = np.random.randint(0, 180)\n",
    "        short, long = np.random.randint(2, 10), np.random.randint(11, 20)\n",
    "        center = np.random.randint(20, 40, size=(2,))\n",
    "        cv2.ellipse(image, center, (short, long), rotate, 0, 360, color=v, thickness=-1)\n",
    "        cv2.imwrite(os.path.join(data_root, f'{k} {obj}', \"{:05d}.jpg\".format(i)), image)"
   ]
  },
  {
   "cell_type": "markdown",
   "id": "258f2790",
   "metadata": {},
   "source": [
    "# Generate Hexagan"
   ]
  },
  {
   "cell_type": "code",
   "execution_count": 8,
   "id": "2245b928",
   "metadata": {},
   "outputs": [],
   "source": [
    "obj = 'Hexagon'\n",
    "\n",
    "for k, v in colors.items():\n",
    "    os.makedirs(os.path.join(data_root, f'{k} {obj}'), exist_ok=True)\n",
    "    for i in range(num_image):\n",
    "        image = np.full((64, 64, 3), 255, dtype=np.uint8)\n",
    "        cx, cy = np.random.randint(20, 44, size=(2,))\n",
    "        w, h = np.random.randint(20, 40, size=(2, ))\n",
    "        sw = int(w * (0.6 * np.random.rand(1) + 0.2))\n",
    "        p1 = (cx - sw // 2, cy - h // 2)\n",
    "        p2 = (cx - w // 2, cy)\n",
    "        p3 = (cx - sw // 2, cy + h // 2)\n",
    "        p4 = (cx + sw // 2, cy + h // 2)\n",
    "        p5 = (cx + w // 2, cy)\n",
    "        p6 = (cx + sw // 2, cy - h // 2)\n",
    "        points = np.array([p1, p2, p3, p4, p5, p6])\n",
    "        cv2.drawContours(image, [points], 0, color=v, thickness=-1)\n",
    "        cv2.imwrite(os.path.join(data_root, f'{k} {obj}', \"{:05d}.jpg\".format(i)), image)"
   ]
  },
  {
   "cell_type": "markdown",
   "id": "592378e1",
   "metadata": {},
   "source": [
    "# dataset with one condition"
   ]
  },
  {
   "cell_type": "code",
   "execution_count": 55,
   "id": "4d50a7b2",
   "metadata": {},
   "outputs": [],
   "source": [
    "import os\n",
    "from glob import glob\n",
    "import random\n",
    "import shutil\n",
    "\n",
    "root = '/root/notebooks/nfs/work/dataset/toy_dataset_oneC'\n",
    "os.makedirs('/root/notebooks/nfs/work/dataset/toy_dataset_oneC', exist_ok=True)\n",
    "\n",
    "labels = ['Circle', 'Oval', 'Hexagon', 'Pentagon', 'Triangle', 'Rectangle']\n",
    "\n",
    "data_root = '/root/notebooks/nfs/work/dataset/toy_dataset_1000'\n",
    "\n",
    "for label in labels:\n",
    "    os.makedirs(os.path.join(root, label), exist_ok=True)\n",
    "    images = glob(os.path.join(data_root, f'*{label}', '*.jpg'))\n",
    "    select = random.sample(images, 3000)\n",
    "    for i in range(len(select)):\n",
    "        shutil.copy(select[i], os.path.join(root, label, '{:04d}.jpg'.format(i)))"
   ]
  },
  {
   "cell_type": "code",
   "execution_count": null,
   "id": "d00068b5",
   "metadata": {},
   "outputs": [],
   "source": []
  }
 ],
 "metadata": {
  "kernelspec": {
   "display_name": "Conditional_Diffusion",
   "language": "python",
   "name": "conditional_diffusion"
  },
  "language_info": {
   "codemirror_mode": {
    "name": "ipython",
    "version": 3
   },
   "file_extension": ".py",
   "mimetype": "text/x-python",
   "name": "python",
   "nbconvert_exporter": "python",
   "pygments_lexer": "ipython3",
   "version": "3.8.10"
  }
 },
 "nbformat": 4,
 "nbformat_minor": 5
}
